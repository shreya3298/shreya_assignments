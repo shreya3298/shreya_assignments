{
 "cells": [
  {
   "cell_type": "code",
   "execution_count": null,
   "id": "78ebe684",
   "metadata": {},
   "outputs": [],
   "source": [
    "#What is File function in python? What is keywords to create and write file.\n",
    "#\"a\" - Append - will append to the end of the file\n",
    "#\"w\" - Write - will overwrite any existing content"
   ]
  },
  {
   "cell_type": "code",
   "execution_count": null,
   "id": "17d5ebc4",
   "metadata": {},
   "outputs": [],
   "source": [
    "#Write a Python program to read an entire text file.\n",
    "f1 = open(\"custom.txt\",\"w\")\n",
    "f1.write(\"this is frist line,\\n this is second line\\n this is third line.\")\n",
    "f1 = open(\"custom.txt\",'r')\n",
    "f1.close()\n",
    "\n"
   ]
  },
  {
   "cell_type": "code",
   "execution_count": null,
   "id": "31183908",
   "metadata": {},
   "outputs": [],
   "source": [
    "#Write a Python program to append text to a file and display the text.\n",
    "f1 = open(\"shreya.txt\",'a')\n",
    "f1.write(\"python is langugue.\")\n",
    "f1.close()"
   ]
  },
  {
   "cell_type": "code",
   "execution_count": null,
   "id": "513f889c",
   "metadata": {},
   "outputs": [],
   "source": [
    "#Write a Python program to read first n lines of a file.\n",
    "f1 = open(\"b.txt\",\"r\")\n",
    "f1.seek(1)\n",
    "#f1.readline()\n",
    "f1.close()"
   ]
  },
  {
   "cell_type": "code",
   "execution_count": null,
   "id": "d699c3e2",
   "metadata": {},
   "outputs": [],
   "source": [
    "#Write a Python program to read a file line by line and store it into a list\n",
    "A = [\"apple\",\"bat\",\"cat\",\"dog\",\"elephant\"]\n",
    "\n",
    "f1 = open('shreya.txt', 'w')\n",
    "f1.writelines(A)\n",
    "f1.close()\n",
    "\n",
    "f1 = open('shreya.txt', 'r')\n",
    "Lines = f1.readlines()\n",
    "\n",
    "count = 0\n",
    "for line in Lines:\n",
    "    count += 1\n",
    "    print(line)\n",
    "    \n",
    "f1.close()\n"
   ]
  },
  {
   "cell_type": "code",
   "execution_count": null,
   "id": "987eb5ef",
   "metadata": {},
   "outputs": [],
   "source": [
    "#Write a Python program to count the number of lines in a text file.\n",
    "f1 = open(\"abc.txt\", \"r\")\n",
    "Count = 0\n",
    "C= f1.read()\n",
    "List = C.split(\"\\n\")\n",
    " \n",
    "for i in C:\n",
    "    if i:\n",
    "        Count += 1\n",
    " \n",
    "print(\"This is number line\")\n",
    "print(Count)\n"
   ]
  },
  {
   "cell_type": "code",
   "execution_count": null,
   "id": "f2eb7f93",
   "metadata": {},
   "outputs": [],
   "source": [
    "#Write a Python program to read a file line by line store it into a variable.\n",
    "f1= open('python.txt','w')\n",
    "f1.writelines()\n",
    "f1.close()\n"
   ]
  },
  {
   "cell_type": "code",
   "execution_count": 6,
   "id": "fd6043c9",
   "metadata": {},
   "outputs": [
    {
     "name": "stdout",
     "output_type": "stream",
     "text": [
      "bejuhewkuehiewie\n"
     ]
    }
   ],
   "source": [
    "#Write a python program to find the longest words.\n",
    "def Word(s):\n",
    "    s = sorted(s, key = len)\n",
    "    print(s[-1])\n",
    "if __name__ == \"__main__\":\n",
    "    s = \"be confident and be yourself\"\n",
    "    l = s.split(\" \")\n",
    "    Word(l)\n",
    "\n",
    "\n"
   ]
  },
  {
   "cell_type": "code",
   "execution_count": 3,
   "id": "6d84eaec",
   "metadata": {},
   "outputs": [
    {
     "name": "stdout",
     "output_type": "stream",
     "text": [
      "Enter the string :ehfuekrhfc dhwjhwkeu xwdgwuhwck bjwc\n",
      "The frequency of words is ...\n",
      "{'ehfuekrhfc': 1, 'dhwjhwkeu': 1, 'xwdgwuhwck': 1, 'bjwc': 1}\n"
     ]
    }
   ],
   "source": [
    "#Write a Python program to count the frequency of words in a file.\n",
    "string = input(\"Enter the string :\")\n",
    "list=[]\n",
    "list=string.split()\n",
    "word=[list.count(p) for p in list]\n",
    "print(\"The frequency of words is ...\")\n",
    "print(dict(zip(list,word)))"
   ]
  },
  {
   "cell_type": "code",
   "execution_count": null,
   "id": "241c9233",
   "metadata": {},
   "outputs": [],
   "source": [
    "#Write a Python program to write a list to a file\n",
    "f1 = open(\"xyz.txt\",\"w\")\n",
    "f1.write(\"this progrme\")\n",
    "f1.close()\n"
   ]
  },
  {
   "cell_type": "code",
   "execution_count": 7,
   "id": "45210d32",
   "metadata": {},
   "outputs": [],
   "source": [
    "#Write a Python program to copy the contents of a file to another file.\n",
    "with open(\"abc.txt\" ,\"r\") as f:\n",
    "    a= f.read()\n",
    "with open(\"xyz.txt\",\"a\") as f:\n",
    "    f.write(a)\n",
    "\n"
   ]
  },
  {
   "cell_type": "code",
   "execution_count": null,
   "id": "d9935f93",
   "metadata": {},
   "outputs": [],
   "source": [
    "#Explain Exception handling? What is an Error in Python?\n",
    "#An Exception is an error that happens during the execution of a program. \n",
    "#There are many type error in python.\n",
    "#1.syntax error\n",
    "#2.index error\n",
    "#3.value error\n",
    "#4.ZeroDivision Error\n",
    "#5.KeyError\n",
    "#6.name error\n",
    "#7.TypeError\n",
    "#AttributeError\n",
    "#TabError"
   ]
  },
  {
   "cell_type": "code",
   "execution_count": null,
   "id": "fd6736da",
   "metadata": {},
   "outputs": [],
   "source": [
    "#How many except statements can a try-except block have? Name Some built-in exception classes:\n",
    "#A:- more then zero except statement can a try except block \n",
    "#There are many type error in python.\n",
    "#1.syntax error\n",
    "#2.index error\n",
    "#3.value error\n",
    "#4.ZeroDivision Error\n",
    "#5.KeyError\n",
    "#6.name error\n",
    "#7.TypeError\n",
    "#AttributeError\n",
    "#TabError\n"
   ]
  },
  {
   "cell_type": "code",
   "execution_count": null,
   "id": "c3bc886f",
   "metadata": {},
   "outputs": [],
   "source": [
    "#When will the else part of try-except-else be executed?\n",
    "#A:-when no exception occurs\n"
   ]
  },
  {
   "cell_type": "code",
   "execution_count": null,
   "id": "86493750",
   "metadata": {},
   "outputs": [],
   "source": [
    "#Can one block of except statements handle multiple exception?\n",
    "#A:- no"
   ]
  },
  {
   "cell_type": "code",
   "execution_count": null,
   "id": "45749ab5",
   "metadata": {},
   "outputs": [],
   "source": [
    "#When is the finally block executed?\n",
    "#A:-it is used for utility takes.\n",
    "#it will allowys executeds."
   ]
  },
  {
   "cell_type": "code",
   "execution_count": null,
   "id": "cd0286ff",
   "metadata": {},
   "outputs": [],
   "source": [
    "#What happens when „1‟== 1 is executed?\n",
    "#False"
   ]
  },
  {
   "cell_type": "code",
   "execution_count": null,
   "id": "8f129880",
   "metadata": {},
   "outputs": [],
   "source": [
    "#How Do You Handle Exceptions With Try/Except/Finally In Python? Explain with coding snippets.\n",
    "try:\n",
    "    a = 5\n",
    "    b = 0\n",
    "    print(a/b)\n",
    "except TypeError:\n",
    "    print(\"unsupport\")\n",
    "except ZeroVisionError:\n",
    "    print(\"zero not support\")\n",
    "finally:\n",
    "    print()\n",
    "    \n"
   ]
  },
  {
   "cell_type": "code",
   "execution_count": null,
   "id": "3f17f3b3",
   "metadata": {},
   "outputs": [],
   "source": [
    "#Write python program that user to enter only odd numbers, else will raise an exception.\n",
    "a = int(input())\n",
    "if a%2 != 0:\n",
    "    raise DigitalNotValidError(\"this is not a match number\")\n",
    "else:\n",
    "    print(\"this is odd number\")"
   ]
  },
  {
   "cell_type": "code",
   "execution_count": null,
   "id": "0cb228d6",
   "metadata": {},
   "outputs": [],
   "source": [
    "#What are oops concepts? Is multiple inheritance supported in java.\n",
    "#A:-Multiple Inheritance is a feature of an object-oriented concept, \n",
    "#   where a class can inherit properties of more than one parent class. \n",
    "# Yes, multiple is  inheritance  supported in java.\n"
   ]
  },
  {
   "cell_type": "code",
   "execution_count": 1,
   "id": "f6ab683b",
   "metadata": {},
   "outputs": [
    {
     "name": "stdout",
     "output_type": "stream",
     "text": [
      "<class '__main__.MyClass'>\n"
     ]
    }
   ],
   "source": [
    "#How to Define a Class in Python? What Is Self? Give An Example Of A Python Class\n",
    "#A:-A class in Python can be defined using the class keyword.\n",
    "#self represents the instance of the class\n",
    "class MyClass:\n",
    "  x = 5\n",
    "\n",
    "print(MyClass)\n"
   ]
  },
  {
   "cell_type": "code",
   "execution_count": 3,
   "id": "8e5770a8",
   "metadata": {},
   "outputs": [
    {
     "name": "stdout",
     "output_type": "stream",
     "text": [
      "240\n"
     ]
    }
   ],
   "source": [
    "#Write a Python class named Rectangle constructed by a length and width \n",
    "#and a method which will compute the area of a rectangle\n",
    "class Rectangle():\n",
    "    def __init__(self, l, w):\n",
    "        self.length = l\n",
    "        self.width  = w\n",
    "\n",
    "    def rectangle_area(self):\n",
    "        return self.length*self.width\n",
    "\n",
    "newRectangle = Rectangle(12, 20)\n",
    "print(newRectangle.rectangle_area())\n",
    "\n"
   ]
  },
  {
   "cell_type": "code",
   "execution_count": 5,
   "id": "32868944",
   "metadata": {},
   "outputs": [
    {
     "name": "stdout",
     "output_type": "stream",
     "text": [
      "314.0\n",
      "62.800000000000004\n"
     ]
    }
   ],
   "source": [
    "#Write a Python class named Circle constructed by a radius and two \n",
    "#methods which will compute the area and the perimeter of a circle\n",
    "class Circle():\n",
    "    def __init__(self, r):\n",
    "        self.radius = r\n",
    "\n",
    "    def area(self):\n",
    "        return self.radius**2*3.14\n",
    "    \n",
    "    def perimeter(self):\n",
    "        return 2*self.radius*3.14\n",
    "\n",
    "c = Circle(10)\n",
    "print(c.area())\n",
    "print(c.perimeter())"
   ]
  },
  {
   "cell_type": "code",
   "execution_count": null,
   "id": "596a3cde",
   "metadata": {},
   "outputs": [],
   "source": [
    "#Explain Inheritance in Python with an example? What is init? Or What Is A Constructor In Python?\n",
    "#A:-Inheritance allows us to define a class that inherits all the methods and properties from another class\n",
    "#The __init__ method is the Python equivalent of the C++ constructor in an object-oriented approach.\n",
    "#A constructor is a special type of method (function) which is used to initialize the instance members of the class. \n"
   ]
  },
  {
   "cell_type": "code",
   "execution_count": null,
   "id": "ede590fe",
   "metadata": {},
   "outputs": [],
   "source": [
    "#What is Instantiation in terms of OOP terminology?\n",
    "object \n",
    "class\n",
    "abstraction\n",
    "inheritance\n",
    "polymorphism\n",
    "Encapusulation\n"
   ]
  },
  {
   "cell_type": "code",
   "execution_count": null,
   "id": "1cbce899",
   "metadata": {},
   "outputs": [],
   "source": [
    "#What is used to check whether an object o is an instance of class A?\n",
    "a = 1\n",
    "b = isinstance(a,int)\n",
    "class ABC:\n",
    "    pass\n",
    "a = ABC()\n",
    "print(isinstance(a,ABC))\n",
    "\n"
   ]
  },
  {
   "cell_type": "code",
   "execution_count": null,
   "id": "d8b2f489",
   "metadata": {},
   "outputs": [],
   "source": [
    "#What relationship is appropriate for Course and Faculty?\n"
   ]
  },
  {
   "cell_type": "code",
   "execution_count": null,
   "id": "aa787252",
   "metadata": {},
   "outputs": [],
   "source": [
    "#What relationship is appropriate for Student and Person?"
   ]
  }
 ],
 "metadata": {
  "kernelspec": {
   "display_name": "Python 3 (ipykernel)",
   "language": "python",
   "name": "python3"
  },
  "language_info": {
   "codemirror_mode": {
    "name": "ipython",
    "version": 3
   },
   "file_extension": ".py",
   "mimetype": "text/x-python",
   "name": "python",
   "nbconvert_exporter": "python",
   "pygments_lexer": "ipython3",
   "version": "3.9.12"
  }
 },
 "nbformat": 4,
 "nbformat_minor": 5
}
