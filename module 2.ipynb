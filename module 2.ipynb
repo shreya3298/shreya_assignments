{
 "cells": [
  {
   "cell_type": "code",
   "execution_count": 1,
   "id": "30dedc8b",
   "metadata": {},
   "outputs": [
    {
     "name": "stdout",
     "output_type": "stream",
     "text": [
      "9\n",
      "It is positive number\n"
     ]
    }
   ],
   "source": [
    "#write a python to check if a number is positive,negative or zero.\n",
    "a = int(input())\n",
    "if a>0:\n",
    "    print(\"It is positive number\")\n",
    "elif a == 0:\n",
    "    print(\"It is zero  number\")\n",
    "else:\n",
    "    print(\"It is negative number\")"
   ]
  },
  {
   "cell_type": "code",
   "execution_count": 3,
   "id": "b18654cf",
   "metadata": {},
   "outputs": [
    {
     "name": "stdout",
     "output_type": "stream",
     "text": [
      "Enter a number: 8\n",
      "The factorial of 8 is 40320\n"
     ]
    }
   ],
   "source": [
    "#Write a Python program to get the Factorial number of given number.\n",
    "num = int(input(\"Enter a number: \"))    \n",
    "factorial = 1    \n",
    "if num < 0:    \n",
    "   print(\" Factorial does not exist for negative numbers\")    \n",
    "elif num == 0:    \n",
    "   print(\"The factorial of 0 is 1\")    \n",
    "else:    \n",
    "   for i in range(1,num + 1):    \n",
    "       factorial = factorial*i    \n",
    "   print(\"The factorial of\",num,\"is\",factorial) "
   ]
  },
  {
   "cell_type": "code",
   "execution_count": 4,
   "id": "228b3d83",
   "metadata": {},
   "outputs": [
    {
     "name": "stdout",
     "output_type": "stream",
     "text": [
      "Enter the Range Number: 9\n",
      "0\n",
      "1\n",
      "1\n",
      "2\n",
      "3\n",
      "5\n",
      "8\n",
      "13\n",
      "21\n"
     ]
    }
   ],
   "source": [
    "#Write a Python program to get the Fibonacci series of given range.\n",
    "num = int(input(\"Enter the Range Number: \"))\n",
    "num1 = 0\n",
    "num2= 1\n",
    "for n in range(0, num):\n",
    "           if(n <= 1):\n",
    "                      next = n\n",
    "           else:\n",
    "                      next = num1+ num2\n",
    "                      num1 = num2\n",
    "                      num2 = next\n",
    "           print(next)\n"
   ]
  },
  {
   "cell_type": "code",
   "execution_count": null,
   "id": "ef6d859e",
   "metadata": {},
   "outputs": [],
   "source": [
    "#How memory is managed in Python?\n",
    "#Memory management in Python involves a private heap containing all Python objects and data structures."
   ]
  },
  {
   "cell_type": "code",
   "execution_count": null,
   "id": "79f0ba87",
   "metadata": {},
   "outputs": [],
   "source": [
    "#What is the purpose continue statement in python?\n",
    "#it will exit from the current iteration and will continue from the next iteration.\n",
    "'''example\n",
    "for n in \"phoebe\":\n",
    "    if n == 0:\n",
    "        continue\n",
    "        print(n)'''\n"
   ]
  },
  {
   "cell_type": "code",
   "execution_count": null,
   "id": "3d41d76d",
   "metadata": {},
   "outputs": [],
   "source": [
    "#Write python program that swap two number with temp variable and without temp variable.\n",
    "x = 5\n",
    "y = 10\n",
    "\n",
    "x, y = y, x\n",
    "print(\"x =\", x)\n",
    "print(\"y =\", y)"
   ]
  },
  {
   "cell_type": "code",
   "execution_count": null,
   "id": "969be6fb",
   "metadata": {},
   "outputs": [],
   "source": [
    "#Write a Python program to test whether a passed letter is a vowel or not\n",
    "vowels = ['a', 'e', 'i', 'o', 'u', 'A', 'E', 'I', 'O', 'U']\n",
    "\n",
    " def is_vowel():\n",
    "     letter = input()\n",
    "     if letter in vowels:\n",
    "         return(\"Is a vowel\")\n",
    "     else:\n",
    "         return(\"is not a vowel\")"
   ]
  },
  {
   "cell_type": "code",
   "execution_count": null,
   "id": "4fa92144",
   "metadata": {},
   "outputs": [],
   "source": [
    "#Write a Python program to sum of three given integers.However, if two values are equal sum will be zero.\n",
    "def sum_thrice(x, y, z):\n",
    " \n",
    "     sum = x + y + z\n",
    " \n",
    "     if x == y == z:\n",
    "      sum = sum * 3\n",
    "     return sum\n",
    " \n",
    "print(sum_thrice(1, 2, 3))\n",
    "print(sum_thrice(3, 3, 3))"
   ]
  },
  {
   "cell_type": "code",
   "execution_count": null,
   "id": "629e1fc6",
   "metadata": {},
   "outputs": [],
   "source": [
    "#Write a Python program that will return true ifthe two given integervalues are equal or their sum or difference is 5.\n",
    "x=input(\"enter the number A:-\")\n",
    "y=input(\"enter the number B:-\")\n",
    "def result(x, y)\n",
    "      if (x + y >= 5)\n",
    "            return true\n",
    "      else\n",
    "            return false\n",
    "print(\" %d \") % result(x, y)\n",
    "\n"
   ]
  },
  {
   "cell_type": "code",
   "execution_count": null,
   "id": "0dc8fd0f",
   "metadata": {},
   "outputs": [],
   "source": [
    "#Write a python program to sum of the first n positive integers.\n",
    "n = int(input(\"Input a number: \"))\n",
    "sum = (n * (n + 1)) / 2\n",
    "print(\"Sum of the first\", n ,\"positive integers:\", sum)"
   ]
  },
  {
   "cell_type": "code",
   "execution_count": null,
   "id": "100cb6e7",
   "metadata": {},
   "outputs": [],
   "source": [
    "#Write a Python program to calculate the length of a string.\n",
    "str = input(\"Enter a string: \")\n",
    "count = 0\n",
    "for s in str:\n",
    "      count = count+1\n",
    "print(\"Length of the input string is:\", count)"
   ]
  },
  {
   "cell_type": "code",
   "execution_count": 7,
   "id": "11b24c01",
   "metadata": {},
   "outputs": [
    {
     "name": "stdout",
     "output_type": "stream",
     "text": [
      "Please Enter your Own String : shreya\n",
      "s 1\n",
      "h 1\n",
      "r 1\n",
      "e 1\n",
      "y 1\n",
      "a 1\n"
     ]
    }
   ],
   "source": [
    "#Write a Python program to count the number of characters (characterfrequency) in a string.\n",
    "\n",
    "str1 = input(\"Please Enter your Own String : \")\n",
    "total = 0\n",
    " \n",
    "for i in str1:\n",
    "    print(i,str1.count(i))\n",
    "    \n",
    " \n"
   ]
  },
  {
   "cell_type": "code",
   "execution_count": null,
   "id": "ad49ec2b",
   "metadata": {},
   "outputs": [],
   "source": [
    "#What are negative indexes and why are they used?\n",
    "\"\"\"The negative index is also used to show the index to represent the string in correct order.\"\"\""
   ]
  },
  {
   "cell_type": "code",
   "execution_count": null,
   "id": "8ba5ae42",
   "metadata": {},
   "outputs": [],
   "source": [
    "#Write a Python program to count occurrences of a substring in a string.\n",
    "string = \"this is a apple \"\n",
    "substring = \"a\"\n",
    "count = string.count(substring, 0, 20)\n",
    "print(\"The count is:\", count)\n"
   ]
  },
  {
   "cell_type": "code",
   "execution_count": null,
   "id": "caab4495",
   "metadata": {},
   "outputs": [],
   "source": [
    "#Write a Python program to count the occurrences of each word in a given sentence\n",
    "str = \"Apple are my favorite fruit\"\n",
    "x = str.count(\"my\")\n",
    "print(x)\n"
   ]
  },
  {
   "cell_type": "code",
   "execution_count": 1,
   "id": "28ed8e30",
   "metadata": {},
   "outputs": [
    {
     "name": "stdout",
     "output_type": "stream",
     "text": [
      "shreya\n",
      "shRMA\n",
      "shreya shRMA\n"
     ]
    }
   ],
   "source": [
    "#Write a Python program to get a single string from two given strings,\n",
    "#separated by a space and swap the first two characters of each string.\n",
    "str1 =input()\n",
    "str2 =input()\n",
    "s1 = str2[:2] + str1[2:]\n",
    "s2 = str1[:2] + str2[2:]\n",
    "final = s1 + \" \" + s2\n",
    "print(final)\n"
   ]
  },
  {
   "cell_type": "code",
   "execution_count": null,
   "id": "cd930620",
   "metadata": {},
   "outputs": [],
   "source": [
    "#Write a Python program to add 'ing' at the end of a given string (length\n",
    "#should be at least 3). If the given string already ends with 'ing' then add 'ly'\n",
    "#insteadif the string length of the given string is less than 3, leave it unchanged\n",
    "string = input(\"enter the string:-\")\n",
    "length = len(string)\n",
    "if length > 2:\n",
    "    if string[-3:] == 'ing':\n",
    "      string += 'ly'\n",
    "    else:\n",
    "      string += 'ing'\n",
    "return string  \n",
    "print(\"string\")"
   ]
  },
  {
   "cell_type": "code",
   "execution_count": null,
   "id": "2f0e12e3",
   "metadata": {},
   "outputs": [],
   "source": [
    "#Write a Python program to find the first appearance of the substring 'not'\n",
    "# and 'poor' froma given string, if 'not' follows the 'poor', replace the whole\n",
    "#'not'...'poor'substring with 'good'. Return the resulting string.\n",
    "str1 = input()\n",
    "str2 = input()\n",
    "nidx = str1.find(\"not\")\n",
    "pidx = str1.find(\"poor\")\n",
    "if nidx < pidx:\n",
    "    print(str1.replace(str1[nidx:pidx + 4]).\"good\") \n",
    "else:\n",
    "    print(str1)\n",
    "\n"
   ]
  },
  {
   "cell_type": "code",
   "execution_count": 4,
   "id": "beab27aa",
   "metadata": {},
   "outputs": [
    {
     "name": "stdout",
     "output_type": "stream",
     "text": [
      "enter a name:NEHA\n",
      "AHEN\n"
     ]
    }
   ],
   "source": [
    "#Write a Python function to reverses a string if its length is a multiple of 4.\n",
    "string=input(\"enter a name:\")\n",
    "\n",
    "if(len(string)%4==0):\n",
    "    print(string[::-1])\n",
    "\n",
    "else:\n",
    "    print(\"no string\")\n",
    "    \n",
    " "
   ]
  },
  {
   "cell_type": "code",
   "execution_count": null,
   "id": "7064fb82",
   "metadata": {},
   "outputs": [],
   "source": [
    "#Write a Python function that takes a list of words and returns the length of the longest one.\n",
    "str = input(\"enter a string:-\")\n",
    "str1= str.split()\n",
    "lar = len(str1[0])\n",
    "for i in str1:\n",
    "    if len(i) > lar:\n",
    "        lar = len(i)\n",
    "print(\"largest string:\", lar)\n"
   ]
  },
  {
   "cell_type": "code",
   "execution_count": null,
   "id": "de4ab242",
   "metadata": {},
   "outputs": [],
   "source": [
    "\"\"\"Write a Python program to get a string made of the first 2 and the last 2\n",
    "chars from a given a string. Ifthe string length islessthan 2,return instead\n",
    "of the empty string.\n",
    "o Sample String:w3resource'\n",
    "o Expected Result: 'w3ce'\n",
    "o Sample String: 'w3'\n",
    "o Expected Result: 'w3w3'\n",
    "o Sample String: ' w'\n",
    "o Expected Result: Empty String\"\"\"\n",
    "#w3resource\n",
    "str = \"w3resource\"\n",
    "if len (str)<2:\n",
    "    print(\"\")\n",
    "else:\n",
    "    print(str[:2] + str[-2:])\n",
    "#w3\n",
    "str = \"w3\"\n",
    "if len (str)<2:\n",
    "    print(\"\")\n",
    "else:\n",
    "    print(str[:2] + str[-2:])\n",
    "    \n",
    "#w\n",
    "str = \"w\"\n",
    "if len (str)<2:\n",
    "    print(\"\")\n",
    "else:\n",
    "    print(str[:2] + str[-2:])\n",
    "\n",
    "\n",
    "    \n",
    "    \n",
    "\n",
    "    "
   ]
  },
  {
   "cell_type": "code",
   "execution_count": null,
   "id": "f5abaeee",
   "metadata": {},
   "outputs": [],
   "source": [
    "#Write a Python program to find whether a given number is even or odd,print out an appropriate message to the user.\n",
    "num = int(input(\"Enter a number: \"))\n",
    "\n",
    "if (num % 2) == 0:\n",
    "   print(\"it is even\")\n",
    "else:\n",
    "   print(\"it is odd\")"
   ]
  },
  {
   "cell_type": "code",
   "execution_count": 5,
   "id": "da08d3b6",
   "metadata": {},
   "outputs": [
    {
     "name": "stdout",
     "output_type": "stream",
     "text": [
      "shreya\n"
     ]
    }
   ],
   "source": [
    "#Write a Python program to convert a list of characters into a string.\n",
    "def convert(s):\n",
    "    new = \"\"\n",
    "    for x in s:\n",
    "        new += x\n",
    "    return new\n",
    "s = ['s','h','r','e','y','a']\n",
    "print(convert(s))"
   ]
  },
  {
   "cell_type": "code",
   "execution_count": null,
   "id": "8245bb56",
   "metadata": {},
   "outputs": [],
   "source": [
    "#Write a Python program to calculate the length of a string\n",
    "str = input(\"Enter a string: \")\n",
    "print(\"Length of the input string is:\", len(str))"
   ]
  },
  {
   "cell_type": "code",
   "execution_count": 1,
   "id": "97c77352",
   "metadata": {},
   "outputs": [
    {
     "name": "stdout",
     "output_type": "stream",
     "text": [
      "Hello, what are you doing?\n"
     ]
    }
   ],
   "source": [
    "#Write a Python function to insert a string in the middle of a string.\n",
    "str = 'Hello, what are doing?'\n",
    "index = str.find('doing')\n",
    "string = str[:index] + 'you ' + str[index:]\n",
    "print(string)"
   ]
  },
  {
   "cell_type": "code",
   "execution_count": null,
   "id": "46673724",
   "metadata": {},
   "outputs": [],
   "source": []
  }
 ],
 "metadata": {
  "kernelspec": {
   "display_name": "Python 3 (ipykernel)",
   "language": "python",
   "name": "python3"
  },
  "language_info": {
   "codemirror_mode": {
    "name": "ipython",
    "version": 3
   },
   "file_extension": ".py",
   "mimetype": "text/x-python",
   "name": "python",
   "nbconvert_exporter": "python",
   "pygments_lexer": "ipython3",
   "version": "3.9.12"
  }
 },
 "nbformat": 4,
 "nbformat_minor": 5
}
