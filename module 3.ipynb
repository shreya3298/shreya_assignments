{
 "cells": [
  {
   "cell_type": "code",
   "execution_count": null,
   "id": "8e59a6b7",
   "metadata": {},
   "outputs": [],
   "source": [
    "#What is List? How will you reverse a list?\n",
    "'''#A:=list is data structure in Python.it is iteams and element.\n",
    "a list reverse method. it is use  reverse the order.\n",
    "example.\n",
    "reverse()'''"
   ]
  },
  {
   "cell_type": "code",
   "execution_count": null,
   "id": "1b2f90f7",
   "metadata": {},
   "outputs": [],
   "source": [
    "#How will you remove last object from a list?\n",
    "#A:-it is use pop function.\n",
    "#example:-\n",
    "list = [1,2,3,4,5,6]\n",
    "list[:-1]\n",
    "    \n",
    "\n"
   ]
  },
  {
   "cell_type": "code",
   "execution_count": null,
   "id": "923a2a77",
   "metadata": {},
   "outputs": [],
   "source": [
    "#Suppose list1 is [2, 33, 222, 14, and 25], what is list1 [-1]?\n",
    "#A:-25 is list1.it is negtive index.\n"
   ]
  },
  {
   "cell_type": "code",
   "execution_count": null,
   "id": "47b16fce",
   "metadata": {},
   "outputs": [],
   "source": [
    "#Differentiate between append () and extend () methods?\n",
    "\"\"\"A:-append() method adds an element to a list, \n",
    "extend() method concatenates the first list with another iterable.\"\"\" \n"
   ]
  },
  {
   "cell_type": "code",
   "execution_count": null,
   "id": "a62f4d36",
   "metadata": {},
   "outputs": [],
   "source": [
    "#Write a Python function to get the largest number, smallest num and sum of all from a list.\n",
    "list = [4,66,88,34,78,90,35]\n",
    "largest  = max(list)\n",
    "print(largest)\n",
    "smallest = min(list)\n",
    "print(smallest)\n",
    "\n",
    "total = 0\n",
    "for x in list:\n",
    "    total+=int(x)\n",
    "print(\"sum of list\",total)\n",
    "\n",
    "\n"
   ]
  },
  {
   "cell_type": "code",
   "execution_count": null,
   "id": "0809579a",
   "metadata": {},
   "outputs": [],
   "source": [
    "#How will you compare two lists?\n",
    "#A:-sort() method use  comapare two  lists"
   ]
  },
  {
   "cell_type": "code",
   "execution_count": null,
   "id": "bca92012",
   "metadata": {},
   "outputs": [],
   "source": [
    "#Write a Python program to count the number of strings where the string  \n",
    "#length is 2 or more and the first and last character are same from a given list of strings.\n",
    "list = [\"as\",\"w3w\",\"des\",\"kd\",\"compuer\",\"sry\",\"or\"]\n",
    "ele = 0\n",
    "for x in list:\n",
    "    if len(x) == 2 and x[0] == x[-1]:\n",
    "        ele += 1\n",
    "        print(x)\n",
    "        \n",
    "    \n",
    "    \n",
    "\n"
   ]
  },
  {
   "cell_type": "code",
   "execution_count": null,
   "id": "4097b6e5",
   "metadata": {},
   "outputs": [],
   "source": [
    "#Write a Python program to remove duplicates from a list.\n",
    "list1= [1, 2, 1, 4, 6]\n",
    "li = list(dict.fromkeys(list1))\n",
    "print(li)\n",
    "\n",
    "list1 = [3,5,7,8,9,5,4,3,3,5,5]\n",
    "li = set(list1)\n",
    "li1 = list(li)\n",
    "print(li1)"
   ]
  },
  {
   "cell_type": "code",
   "execution_count": null,
   "id": "2382c402",
   "metadata": {},
   "outputs": [],
   "source": [
    "#Write a Python program to check a list is empty or not.\n",
    "list = []\n",
    "list1 = [3,4,5,7]\n",
    "if len(list):\n",
    "    print(\"This is empty list\")\n",
    "else:\n",
    "    print(\"This is not empty list\")\n",
    "    \n",
    "if len(list1):\n",
    "    print(\"This is empty list\")\n",
    "else:\n",
    "    print(\"This is not empty list.\")\n",
    "    \n",
    "\n",
    "    \n",
    "\n"
   ]
  },
  {
   "cell_type": "code",
   "execution_count": null,
   "id": "cf1f9102",
   "metadata": {},
   "outputs": [],
   "source": [
    "#Write a Python function that takes two lists and returns true if they have at least one common member.\n",
    "def comanlist(l1,l2):\n",
    "    for x in l1:\n",
    "        for y in l2:\n",
    "            if x == y:\n",
    "                return True\n",
    "            else:\n",
    "                return False\n",
    "                \n",
    "    \n",
    "comanlist([2,4,5,6],[3,2,9,10])\n",
    "comanlist([2,4,5,6],[2,4,5,6])\n",
    "\n",
    "                \n",
    "            \n",
    "        \n"
   ]
  },
  {
   "cell_type": "code",
   "execution_count": null,
   "id": "0b13c77f",
   "metadata": {},
   "outputs": [],
   "source": [
    "#Write a Python program to generate and print a list of first and last 5 \n",
    "#elements where the values are square of numbers between 1 and 30.\n",
    "\n",
    "def f1():\n",
    "    l = list()\n",
    "    for i in range(1,30):\n",
    "        l.append(i**2)\n",
    "        return l\n",
    "        \n",
    "print(l[:5])\n",
    "print(l[-5:])\n",
    "\n",
    "   \n",
    "    \n"
   ]
  },
  {
   "cell_type": "code",
   "execution_count": null,
   "id": "5664fd0f",
   "metadata": {},
   "outputs": [],
   "source": [
    "#Write a Python function that takes a list and returns a new list with unique elements of the first list.\n",
    "def f(list):\n",
    "\n",
    "    a=set(list)\n",
    "\n",
    "    print(sorted(a))\n",
    "\n",
    "f([1,1,1,2,3,4])\n",
    "\n"
   ]
  },
  {
   "cell_type": "code",
   "execution_count": null,
   "id": "160f348f",
   "metadata": {},
   "outputs": [],
   "source": [
    "#Write a Python program to convert a list of characters into a string.\n",
    "list = [\"a\",\"p\",\"p\",\"l\",\"e\"]\n",
    "str = \"\".join(list)\n",
    "print(str)\n"
   ]
  },
  {
   "cell_type": "code",
   "execution_count": null,
   "id": "992bdb24",
   "metadata": {},
   "outputs": [],
   "source": [
    "#Write a Python program to select an item randomly from a list.\n",
    "import random\n",
    "l = [10,20,30,40,50,60]\n",
    "new = random.choice(l)\n",
    "print(new)"
   ]
  },
  {
   "cell_type": "code",
   "execution_count": null,
   "id": "980235f4",
   "metadata": {},
   "outputs": [],
   "source": [
    "#Write a Python program to find the second smallest number in a list\n",
    "li = [20,40,50,60,70,23,57,88,89,68]  \n",
    "li.sort() \n",
    "print(\"The sorted list: \", li) \n",
    "print(\"The second smallest value of this list: \",li[1])\n"
   ]
  },
  {
   "cell_type": "code",
   "execution_count": 2,
   "id": "38dbed5b",
   "metadata": {},
   "outputs": [
    {
     "name": "stdout",
     "output_type": "stream",
     "text": [
      "The original list : [5, 6, 3, 8, 2, 1, 7, 1]\n",
      "Is sublist present in list  : True\n"
     ]
    }
   ],
   "source": [
    "#Write a Python program to check whether a list contains a sub list\n",
    "list1 = [5, 6, 3, 8, 2, 1, 7, 1]\n",
    "print(\"The original list : \" + str(list1))\n",
    "sublist = [8, 2, 1]\n",
    "res = False\n",
    "for idx in range(len(list1) - len(sublist) + 1):\n",
    "        if list1[idx : idx + len(sublist)] == sublist:\n",
    "            res = True\n",
    "            break\n",
    "print(\"Is sublist present in list  : \" + str(res))\n",
    "\n"
   ]
  },
  {
   "cell_type": "code",
   "execution_count": null,
   "id": "a21fa8b2",
   "metadata": {},
   "outputs": [],
   "source": [
    "#Write a Python program to split a list into different variables.\n",
    "list = [(\"A\",\"apple\"),(\"b\",\"bat\"),(\"c\",\"dog\")]\n",
    "var1,var2,var3 = list\n",
    "print(var1)\n",
    "print(var2)\n",
    "print(var3)\n",
    "\n",
    "\n"
   ]
  },
  {
   "cell_type": "code",
   "execution_count": null,
   "id": "af5df642",
   "metadata": {},
   "outputs": [],
   "source": [
    "#What is tuple? Difference between list and tuple.\n",
    "A:=tuples are immutable, and lists are mutable.\n"
   ]
  },
  {
   "cell_type": "code",
   "execution_count": null,
   "id": "e923de2a",
   "metadata": {},
   "outputs": [],
   "source": [
    "#write a python program to create a tuple with numbers.\n",
    "t1 = (1,2,3,4,5) \n",
    "print(t1)"
   ]
  },
  {
   "cell_type": "code",
   "execution_count": null,
   "id": "a2b3892f",
   "metadata": {},
   "outputs": [],
   "source": [
    "#Write a Python program to create a tuple with different data types.\n",
    "t1 = (\"string\",38,50.67,True,[1,2,3,4],{23,4,55},(1,2,3,4))\n",
    "print(t1)"
   ]
  },
  {
   "cell_type": "code",
   "execution_count": null,
   "id": "b9aebff4",
   "metadata": {},
   "outputs": [],
   "source": [
    "#Write a Python program to convert a tuple to a string.\n",
    "t1 = (\"s\",\"n\",\"p\")\n",
    "s = \"\".join(t1)\n",
    "print(s)\n"
   ]
  },
  {
   "cell_type": "code",
   "execution_count": null,
   "id": "b0e871b9",
   "metadata": {},
   "outputs": [],
   "source": [
    "#Write a Python program to check whether an element exists within a tuples.\n",
    "t = (12,9,10,13)\n",
    "element = 9\n",
    "if element in t:\n",
    "    print(element,\"exists in tuple\")\n",
    "else:\n",
    "    print(element,\"does not exist in tuple\")"
   ]
  },
  {
   "cell_type": "code",
   "execution_count": null,
   "id": "0a4e13c3",
   "metadata": {},
   "outputs": [],
   "source": [
    "#Write a Python program to find the length of a tuple\n",
    "t1 = (1,2,3,4,5,6,7,8,9)\n",
    "len(t1)"
   ]
  },
  {
   "cell_type": "code",
   "execution_count": null,
   "id": "6363eee5",
   "metadata": {},
   "outputs": [],
   "source": [
    "#Write a Python program to convert a list to a tuple.\n",
    "t1 = [2,3,4,5,6,7,8]\n",
    "l1 = tuple(t1)\n",
    "print(l1)"
   ]
  },
  {
   "cell_type": "code",
   "execution_count": null,
   "id": "d8278048",
   "metadata": {},
   "outputs": [],
   "source": [
    "#Write a Python program to reverse a tuple.\n",
    "x = ('apple', 'banana', 'cherry')\n",
    "result = reversed(x)\n",
    "result = tuple(result)\n",
    "print(result)"
   ]
  },
  {
   "cell_type": "code",
   "execution_count": null,
   "id": "c2bcfc6c",
   "metadata": {},
   "outputs": [],
   "source": [
    "#Write a Python program to replace last value of tuples in a list.\n",
    "list = [\"apple\",\"bat\",\"cat\",\"banana\",\"mango\"]\n",
    "list.remove(\"mango\")\n",
    "t1 = tuple(list)\n",
    "print(t1)"
   ]
  },
  {
   "cell_type": "code",
   "execution_count": null,
   "id": "cc9c6c1b",
   "metadata": {},
   "outputs": [],
   "source": [
    "#Write a Python program to find the repeated items of a tuple.\n",
    "tuple = (3,5,44,6,6,66,55)\n",
    "tuple.()\n"
   ]
  },
  {
   "cell_type": "code",
   "execution_count": null,
   "id": "a8bd1361",
   "metadata": {},
   "outputs": [],
   "source": [
    "#Write a Python program to remove an empty tuple(s) from a list of tuples.\n",
    "def remove(li):\n",
    "    for i in li:\n",
    "        if type(i) != int:\n",
    "            if len(i) == 0:\n",
    "                    li.remove(i)\n",
    "    return li\n",
    "li = [(),('string'),(),3,5,(1,2,3,4,4),(\"class\")]\n",
    "o = remove(li)\n",
    "print(li)\n"
   ]
  },
  {
   "cell_type": "code",
   "execution_count": null,
   "id": "d247b8eb",
   "metadata": {},
   "outputs": [],
   "source": [
    "#Write a Python program to unzip a list of tuples into individual lists.\n",
    "l = [(1,2,4), (3,4,9), (8,9,5),(9,8,7,9)]\n",
    "print(list(zip(l)))\n"
   ]
  },
  {
   "cell_type": "code",
   "execution_count": null,
   "id": "5e37b6cc",
   "metadata": {},
   "outputs": [],
   "source": [
    "#Write a Python program to convert a list of tuples into a dictionary\n",
    "dic = {1:\"apple\",2:\"banana\",3:\"mango\"}\n",
    "t1 = tuple(dic)\n",
    "print(t1)"
   ]
  },
  {
   "cell_type": "code",
   "execution_count": null,
   "id": "9c731a61",
   "metadata": {},
   "outputs": [],
   "source": [
    "#How will you create a dictionary using tuples in python\n",
    "tup = ((11, \"eleven\"), (21, \"mike\"), (19, \"dustin\"), (46, \"caleb\"))\n",
    "dct = dict((x, y) for y, x in tup)\n",
    "print(dct)"
   ]
  },
  {
   "cell_type": "code",
   "execution_count": null,
   "id": "07f71bf8",
   "metadata": {},
   "outputs": [],
   "source": [
    "#Write a Python script to sort (ascending and descending) a dictionary by value.\n",
    "d1 = {1:100,2:50, 3:65, 4:82, 5:23}\n",
    "ascending = sorted(d1)\n",
    "print(ascending)\n",
    "d2 = {1:100,2:50, 3:65, 4:82, 5:23}\n",
    "descending = sorted(d2(reverse = True))\n",
    "print(descending)\n"
   ]
  },
  {
   "cell_type": "code",
   "execution_count": null,
   "id": "bde8a614",
   "metadata": {},
   "outputs": [],
   "source": [
    "#Write a Python script to concatenate following dictionaries to create a new one.\n",
    "dic1 = {  'Pen': 5, 'Pencil': 4, 'Chocolate' : 15 }\n",
    "dic2 = {'Apple': 25,'Ball': 10,'Doll' : 20 }\n",
    "dic1.update(dic2)\n",
    "print(dic1)\n"
   ]
  },
  {
   "cell_type": "code",
   "execution_count": null,
   "id": "63aa58d8",
   "metadata": {},
   "outputs": [],
   "source": [
    "#Write a Python script to check if a given key already exists in a dictionary. \n",
    "dic = {1:\"computer\",2:\"mouse\",3:\"c.p.u\",4:\"key\"}\n",
    "if 2 in dic:\n",
    "    print(\"this is exists in dictionary\")\n",
    "else:\n",
    "    print(\"this is not exits in dictionary\")"
   ]
  },
  {
   "cell_type": "code",
   "execution_count": null,
   "id": "9c0bd8d9",
   "metadata": {},
   "outputs": [],
   "source": [
    "#How Do You Traverse Through A Dictionary Object In Python?\n",
    "#Ans:-no"
   ]
  },
  {
   "cell_type": "code",
   "execution_count": null,
   "id": "e6c73446",
   "metadata": {},
   "outputs": [],
   "source": [
    "#How Do You Check The Presence Of A Key In A Dictionary?\n",
    "dict1 = {\"a\":1,\"b\":2,\"c\":3,\"d\":4,\"e\":5,\"f\":6}\n",
    "key=str(input(\"enter the key:-\"))\n",
    "if key in dict1:\n",
    "    print(\"Key exists\") \n",
    "else:\n",
    "    print(\"Key does not exist\")"
   ]
  },
  {
   "cell_type": "code",
   "execution_count": null,
   "id": "fadc1f2c",
   "metadata": {},
   "outputs": [],
   "source": [
    "#Write a Python script to print a dictionary where the keys are numbers between 1 and 15.\n",
    "d=dict()\n",
    "for x in range(1,16):\n",
    "    d[x]=x**2\n",
    "print(d)  "
   ]
  },
  {
   "cell_type": "code",
   "execution_count": null,
   "id": "21853fdc",
   "metadata": {},
   "outputs": [],
   "source": [
    "#Write a Python program to check multiple keys exists in a dictionary.\n",
    "dict1 = {'ross':20, 'monica':67, 'joey':20, 'phoebe':56}\n",
    "for i in dict1: #only keys\n",
    "    print(i)"
   ]
  },
  {
   "cell_type": "code",
   "execution_count": null,
   "id": "effac66f",
   "metadata": {},
   "outputs": [],
   "source": [
    "#Write a Python script to merge two Python dictionaries\n",
    "d1 = {1:2,2:3,3:4,4:5,5:6}\n",
    "d2 = {\"a\":\"b\",\"b\":\"c\",\"c\":\"d\",\"d\":\"e\"}\n",
    "d = d1.copy()\n",
    "d.update(d2)\n",
    "print(d)"
   ]
  },
  {
   "cell_type": "code",
   "execution_count": null,
   "id": "fffb0ce5",
   "metadata": {},
   "outputs": [],
   "source": [
    "#Write a Python program to map two lists into a dictionary\n",
    "keys = [1,2,3]\n",
    "values = ['Apple','Bat', 'Cat']\n",
    "new_dic = dict(zip(keys, values))\n",
    "print(new_dic)"
   ]
  },
  {
   "cell_type": "code",
   "execution_count": null,
   "id": "9ad740ff",
   "metadata": {},
   "outputs": [],
   "source": [
    "#Write a Python program to combine two dictionary adding values for \n",
    "#common keys.\n",
    "#o d1 = {'a': 100, 'b': 200, 'c':300}\n",
    "#o d2 = {'a': 300, 'b': 200,’d’:400}'''\n",
    "#Sample output: Counter ({'a': 400, 'b': 400,’d’: 400, 'c': 300}).\n",
    "d1 = {'a':100,'b':2,'c':678, 'shreya':66, 'nitin':100}\n",
    "d2 = {'a':300,'b':20,'d':4, 'dev':89, 'shreya':4, 'niti':20}\n",
    "# d3 = {a:400, b:22, c:678, d:4, shreya:70, nitin:100, dev:89, niti:20}\n",
    "d3={}\n",
    "for key in d1:\n",
    "    if key in d2:\n",
    "        d3[key]= d1[key] + d2[key]\n",
    "        d2.pop(key)\n",
    "    else:\n",
    "        d3[key] = d1[key]\n",
    "for i in d2:\n",
    "    d3[i] = d2[i]\n",
    "print(d3)\n",
    "            \n",
    "\n"
   ]
  },
  {
   "cell_type": "code",
   "execution_count": null,
   "id": "85805027",
   "metadata": {},
   "outputs": [],
   "source": [
    "#Write a Python program to print all unique values in a dictionary.\n",
    "d1 = {1:\"php\",2:\"java\",3:\"php\",4:\"css\",5:\"java\",6:\"css\"}\n",
    "list = []\n",
    "for val in d1.values():\n",
    "    if val in list:\n",
    "        continue\n",
    "    else:\n",
    "        list.append(val)\n",
    "print(list)"
   ]
  },
  {
   "cell_type": "code",
   "execution_count": null,
   "id": "3384a93d",
   "metadata": {},
   "outputs": [],
   "source": [
    "#Why Do You Use the Zip () Method in Python?\n",
    "a = (\"John\", \"Charles\", \"Mike\")\n",
    "b = (\"Jenny\", \"Christy\", \"Monica\", \"Vicky\")\n",
    "x = zip(a, b)\n",
    "print(tuple(x))"
   ]
  },
  {
   "cell_type": "code",
   "execution_count": null,
   "id": "25edd309",
   "metadata": {},
   "outputs": [],
   "source": [
    "#Write a Python program to create and display all combinations of letters,\n",
    "#selecting each letter from a different key in a dictionary.\n",
    "#o Sample data: {'1': ['a','b'], '2': ['c','d']}\n",
    "#o Expected Output:\n",
    "#o ac ad bc bd\n",
    "dic = {'1':['a','b'], '2':['c','d']}   \n",
    "for x in dic['1']:\n",
    "    for y in dic['2']:\n",
    "        print(x + y)"
   ]
  },
  {
   "cell_type": "code",
   "execution_count": null,
   "id": "af9453c8",
   "metadata": {},
   "outputs": [],
   "source": [
    "#Write a Python program to find the highest 3 values in a dictionary.\n",
    "dic1 = {\"a\":90,\"b\":89,\"c\":67,\"d\":56,\"e\":12,\"f\":23}\n",
    "new_list = list(dic1.items())\n",
    "new_list.sort(key= lambda x:x[-1],reverse = True)\n",
    "dict(new_list)\n"
   ]
  },
  {
   "cell_type": "code",
   "execution_count": null,
   "id": "7d6275ec",
   "metadata": {},
   "outputs": [],
   "source": [
    "#Write a Python program to combine values in python list of dictionaries. \n",
    "#Sample data: [{'item': 'item1', 'amount': 400}, {'item': 'item2', 'amount': 300},\n",
    "#o {'item': 'item1', 'amount': 750}]\n",
    "#o Expected Output: Counter ({'item1': 1150, 'item2': 300})\n"
   ]
  },
  {
   "cell_type": "code",
   "execution_count": null,
   "id": "2105ebcf",
   "metadata": {},
   "outputs": [],
   "source": [
    "#Write a Python program to create a dictionary from a string.\n",
    "#o Note: Track the count of the letters from the string. Sample string:'w3resource'\n",
    "#o Expected output: {'3': 1,’s’: 1, 'r': 2, 'u': 1, 'w': 1, 'c': 1, 'e': 2, 'o': 1}\n",
    "str = 'w3resource'\n",
    "dict = {}\n",
    "for letter in str:\n",
    "    dict[letter] = dict.get(letter, 0) + 1\n",
    "print(dict)"
   ]
  },
  {
   "cell_type": "code",
   "execution_count": null,
   "id": "3a7a0f8c",
   "metadata": {},
   "outputs": [],
   "source": [
    "#Write a Python function to calculate the factorial of a number (a non negative integer)\n",
    "n=int(input(\"\"))\n",
    "def factorial(n):\n",
    "    if n == 0:\n",
    "        return 1\n",
    "    else:\n",
    "        return n * factorial(n-1)\n",
    "print(factorial(n))\n",
    "\n"
   ]
  },
  {
   "cell_type": "code",
   "execution_count": null,
   "id": "8a4c3419",
   "metadata": {},
   "outputs": [],
   "source": [
    "#Write a Python function to check whether a number is in a given range\n",
    "num1 = int(input())\n",
    "num1 = int(input())\n",
    "num1 = int(input())\n",
    "def f1():\n",
    "    \n",
    "f1()"
   ]
  },
  {
   "cell_type": "code",
   "execution_count": null,
   "id": "3a3c3bff",
   "metadata": {},
   "outputs": [],
   "source": [
    "#Write a Python function to check whether a number is perfect or not.\n",
    "a = int(input(\"\"))\n",
    "def f1(a):\n",
    "    a % 2 == 0\n",
    "    return a\n",
    "print(a)\n"
   ]
  },
  {
   "cell_type": "code",
   "execution_count": null,
   "id": "55996673",
   "metadata": {},
   "outputs": [],
   "source": [
    "#Write a Python function that checks whether a passed string is palindrome or not.\n",
    "def isPalindrome(s):\n",
    "    return s == s[::-1]\n",
    "s = \"malayalam\"\n",
    "ans = isPalindrome(s)\n",
    " \n",
    "if ans:\n",
    "    print(\"Yes\")\n",
    "else:\n",
    "    print(\"No\")"
   ]
  },
  {
   "cell_type": "code",
   "execution_count": null,
   "id": "2d6f8824",
   "metadata": {},
   "outputs": [],
   "source": [
    "#How do you perform pattern matching in Python? Explain\n"
   ]
  },
  {
   "cell_type": "code",
   "execution_count": null,
   "id": "2bd6772a",
   "metadata": {},
   "outputs": [],
   "source": [
    "#What is lambda function in python? What we call a function which is incomplete version of a function?\n",
    "\"\"\"lambda function who doesnot have name.\n",
    "lambda function multiple parameters but single expression.\n",
    "syntax:\n",
    "(lambda paramters : expression )(arugment)\n",
    "example:\n",
    "lambda a,b:a+b\"\"\""
   ]
  },
  {
   "cell_type": "code",
   "execution_count": null,
   "id": "8acc0ebb",
   "metadata": {},
   "outputs": [],
   "source": [
    "#How Many Basic Types Of Functions Are Available In Python?\n",
    "\"\"\"There are three type function in python.\n",
    "1.built in\n",
    "2.user defined\n",
    "3.anonymous(lambda function)\"\"\"\n"
   ]
  },
  {
   "cell_type": "code",
   "execution_count": null,
   "id": "bcbb0b21",
   "metadata": {},
   "outputs": [],
   "source": [
    "#How can you pick a random item from a list or tuple?S\n",
    "import random\n",
    "print(random.choice([2,44,6,7,8,9]))\n"
   ]
  },
  {
   "cell_type": "code",
   "execution_count": null,
   "id": "dc4d106e",
   "metadata": {},
   "outputs": [],
   "source": [
    "#How can you pick a random item from a range?\n",
    "import random\n",
    "otp = random.randrange(1000,999999)\n",
    "f'your otp is a {otp}'"
   ]
  },
  {
   "cell_type": "code",
   "execution_count": null,
   "id": "95195920",
   "metadata": {},
   "outputs": [],
   "source": [
    "#How can you get a random number in python?\n",
    "#A random number get a random method in python.\n",
    "import random\n",
    "print(random.randint(1,10))\n"
   ]
  },
  {
   "cell_type": "code",
   "execution_count": null,
   "id": "d8577439",
   "metadata": {},
   "outputs": [],
   "source": [
    "#How will you set the starting value in generating random numbers?\n",
    "import random\n",
    "random.seed(1000)\n",
    "print(random.random())\n"
   ]
  },
  {
   "cell_type": "code",
   "execution_count": null,
   "id": "5cd97457",
   "metadata": {},
   "outputs": [],
   "source": [
    "#How will you randomizes the items of a list in place?\n",
    "import random\n",
    "list = [1,2,3,4,5,6,7,8,9]\n",
    "random.shuffle(list)\n",
    "print(list)"
   ]
  },
  {
   "cell_type": "code",
   "execution_count": null,
   "id": "b5182052",
   "metadata": {},
   "outputs": [],
   "source": [
    "#Write a Python program to read a random line from a file.\n",
    "import random\n",
    "\n",
    "with open(\"abc.txt\",'r') as f:\n",
    "    print(random.choice(f.readlines()))\n",
    "    \n",
    "\n"
   ]
  },
  {
   "cell_type": "code",
   "execution_count": null,
   "id": "2a3666a8",
   "metadata": {},
   "outputs": [],
   "source": [
    "#Write a Python program to convert degree to radian.\n",
    "pi=22/7\n",
    "degree = float(input(\"Input degrees: \"))\n",
    "radian = degree*(pi/180)\n",
    "print(radian)\n"
   ]
  },
  {
   "cell_type": "code",
   "execution_count": null,
   "id": "eae7029d",
   "metadata": {},
   "outputs": [],
   "source": [
    "#Write a Python program to calculate the area of a trapezoid.\n",
    "height = float(input(\"Height of trapezoid: \"))\n",
    "line1 = float(input('one value: '))\n",
    "line2 = float(input(' two value: '))\n",
    "area = ((line1 + line2) / 2) * height\n",
    "print(\"Area is:\", area)\n"
   ]
  },
  {
   "cell_type": "code",
   "execution_count": null,
   "id": "75e249b8",
   "metadata": {},
   "outputs": [],
   "source": [
    "#Write a Python program to calculate the area of a parallelogram\n",
    "weight = float(input('Enter the weight:- '))\n",
    "height = float(input('Enter the height:- '))\n",
    "area = weight * height\n",
    "print(\"Area is: \", area)\n"
   ]
  },
  {
   "cell_type": "code",
   "execution_count": null,
   "id": "aec7aa1d",
   "metadata": {},
   "outputs": [],
   "source": [
    "#Write a Python program to calculate surface volume and area of a cylinder\n",
    "\n",
    "pi=22/7\n",
    "height = float(input(' Eneter the Height: '))\n",
    "radian = float(input('Eneter the Radius: '))\n",
    "volume = pi * radian * radian * height\n",
    "sur_area = ((2*pi*radian) * height) + ((pi*radian**2)*2)\n",
    "print(\"Volume is: \", volume)\n",
    "print(\"Surface Area is: \", sur_area)"
   ]
  },
  {
   "cell_type": "code",
   "execution_count": null,
   "id": "8dc6fe1a",
   "metadata": {},
   "outputs": [],
   "source": [
    "#Write a Python program to returns sum of all divisors of a number.\n",
    "num = int(input())\n",
    "sum1 = 0\n",
    "for i in range(1,num):\n",
    "    if num%1 == 0:\n",
    "        sum1+=i\n",
    "        \n",
    "sum1\n"
   ]
  },
  {
   "cell_type": "code",
   "execution_count": null,
   "id": "75840563",
   "metadata": {},
   "outputs": [],
   "source": [
    "#Write a Python program to find the maximum and minimum numbers from the specified decimal numbers.\n",
    "list1 = [90.33,55.445,566,-665,6,5554,976543,-37464664.48474]\n",
    "min1 = list1[1]\n",
    "max1 = list1[1]\n",
    "for i in range(len(list1)):\n",
    "    if  i != len(list1)-1:\n",
    "        if list1[i] <list1[i+1]:\n",
    "              if min1 > list1[i]:\n",
    "                min1 = list1[i]\n",
    "                if list1[i+1] > max1:\n",
    "                    max1 = list1[i+1]\n",
    "        else:\n",
    "            if max1 <list1[i]:\n",
    "                max1 = list1[i]\n",
    "            if min1 > list1[i+1]:\n",
    "                min1 = list1[i+1]\n",
    "print(min1,max1)\n",
    "\n",
    "\n"
   ]
  },
  {
   "cell_type": "code",
   "execution_count": null,
   "id": "f3bfadab",
   "metadata": {},
   "outputs": [],
   "source": []
  }
 ],
 "metadata": {
  "kernelspec": {
   "display_name": "Python 3 (ipykernel)",
   "language": "python",
   "name": "python3"
  },
  "language_info": {
   "codemirror_mode": {
    "name": "ipython",
    "version": 3
   },
   "file_extension": ".py",
   "mimetype": "text/x-python",
   "name": "python",
   "nbconvert_exporter": "python",
   "pygments_lexer": "ipython3",
   "version": "3.9.12"
  }
 },
 "nbformat": 4,
 "nbformat_minor": 5
}
